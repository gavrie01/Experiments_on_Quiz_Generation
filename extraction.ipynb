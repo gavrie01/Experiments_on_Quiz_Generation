{
 "cells": [
  {
   "cell_type": "markdown",
   "metadata": {},
   "source": [
    "In this notebook we are downloading PDF file, converting it to TXT and doing some \"pre-cleaning\": removing not meaningful parts of document and leaving just the most valuable leftovers for our future generator.\n",
    "THe outcome of the below code is pre-processed but still raw data.\n",
    "\n",
    "\n",
    "\"extracted_text\" variable has \"StringIO\" type: The StringIO object is part of Python's io module and is a class that provides an in-memory file-like object that can be used for reading from or writing to strings as if they were files. It allows you to treat strings as file-like objects, which can be useful in various situations, such as when you want to read from or write to a string in a way that mimics file operations.\n"
   ]
  },
  {
   "cell_type": "code",
   "execution_count": 220,
   "metadata": {},
   "outputs": [],
   "source": [
    "# import of libraries\n",
    "from io import StringIO # extracted_text is the main variable, contains the whole text of document in stringIO format in memory\n",
    "import requests\n",
    "import re  # provides reg. exp. support\n",
    "import math\n",
    "\n",
    "from pdfminer.converter import TextConverter\n",
    "from pdfminer.layout import LAParams\n",
    "from pdfminer.pdfdocument import PDFDocument\n",
    "from pdfminer.pdfinterp import PDFResourceManager, PDFPageInterpreter\n",
    "from pdfminer.pdfpage import PDFPage\n",
    "from pdfminer.pdfparser import PDFParser\n",
    "\n",
    "import nltk\n",
    "from nltk.corpus import stopwords\n"
   ]
  },
  {
   "cell_type": "code",
   "execution_count": 221,
   "metadata": {},
   "outputs": [
    {
     "data": {
      "text/plain": [
       "1113747"
      ]
     },
     "execution_count": 221,
     "metadata": {},
     "output_type": "execute_result"
    }
   ],
   "source": [
    "# downloading pdf to '/data/' folder\n",
    "url = 'https://astqb.org/assets/documents/ISTQB_CTFL_Syllabus-v4.0.pdf'\n",
    "r = requests.get(url, allow_redirects=True)\n",
    "open('data/ISTQB_CTFL_Syllabus-v4.0.pdf', 'wb').write(r.content)"
   ]
  },
  {
   "cell_type": "code",
   "execution_count": 222,
   "metadata": {},
   "outputs": [
    {
     "name": "stdout",
     "output_type": "stream",
     "text": [
      "Extracted text for 'The Certified Tester Foundation Level in Software Testing' saved to 'data/ISTQB_CTFL_Syllabus-v4.0.txt'\n"
     ]
    }
   ],
   "source": [
    "#converting pdf to text and saving into .txt file initial version\n",
    "output_string = StringIO()\n",
    "output_file_path = 'data/ISTQB_CTFL_Syllabus-v4.0.txt'\n",
    "with open('data/ISTQB_CTFL_Syllabus-v4.0.pdf', 'rb') as in_file, open(output_file_path, 'w', encoding='utf-8') as out_file:\n",
    "    parser = PDFParser(in_file)\n",
    "    doc = PDFDocument(parser)\n",
    "    rsrcmgr = PDFResourceManager()\n",
    "    device = TextConverter(rsrcmgr, output_string, laparams=LAParams())\n",
    "    interpreter = PDFPageInterpreter(rsrcmgr, device)\n",
    "    for page in PDFPage.create_pages(doc):\n",
    "        interpreter.process_page(page)\n",
    "    # Getting the extracted text from StringIO, it means the entire text extracted from the PDF is stored as a single string in memory.\n",
    "    extracted_text = output_string.getvalue()\n",
    "    # Writing the extracted text to the output file\n",
    "    out_file.write(extracted_text)\n",
    "\n",
    "# Closing the stream\n",
    "output_string.close()\n",
    "\n",
    "\n",
    "# Printing message to indicate that the text has been saved to the file\n",
    "print(f\"Extracted text for 'The Certified Tester Foundation Level in Software Testing' saved to '{output_file_path}'\")"
   ]
  },
  {
   "cell_type": "code",
   "execution_count": 223,
   "metadata": {},
   "outputs": [
    {
     "name": "stdout",
     "output_type": "stream",
     "text": [
      "The length of string in bytes : 200296\n",
      "Re-calculated size:  195.6 KB\n"
     ]
    }
   ],
   "source": [
    "# let us check size of StringIO on the full size of converted file, just out of curiosity\n",
    "size_bytes = len(extracted_text.encode('utf-8'))\n",
    "print ('The length of string in bytes : ' + str (size_bytes))\n",
    "\n",
    "# function's code is taken from stackoverflow ---\n",
    "def convert_size(size_bytes):\n",
    "   if size_bytes == 0:\n",
    "       return \"0B\"\n",
    "   size_name = (\"B\", \"KB\", \"MB\", \"GB\", \"TB\", \"PB\", \"EB\", \"ZB\", \"YB\")\n",
    "   i = int(math.floor(math.log(size_bytes, 1024)))\n",
    "   p = math.pow(1024, i)\n",
    "   s = round(size_bytes / p, 2)\n",
    "   return \"%s %s\" % (s, size_name[i])\n",
    "# ---\n",
    "print(\"Re-calculated size: \", convert_size(size_bytes))"
   ]
  },
  {
   "cell_type": "code",
   "execution_count": 224,
   "metadata": {},
   "outputs": [
    {
     "name": "stdout",
     "output_type": "stream",
     "text": [
      "Extracted text for 'The Certified Tester Foundation Level in Software Testing' pre processed version 0.1 saved to 'data/ISTQB_CTFL_Syllabus-v4.0_v01.txt'\n"
     ]
    }
   ],
   "source": [
    "# Looking up for the text to remove everything before it\n",
    "target_text = \"1.1. What is Testing?\"\n",
    "\n",
    "# Finding the position of the target text in the extracted text\n",
    "start_position = extracted_text.find(target_text)\n",
    "\n",
    "# Checking if the target text was found, just in case\n",
    "if start_position != -1:\n",
    "    # Removing everything before the target text\n",
    "    extracted_text = extracted_text[start_position:]\n",
    "\n",
    "\n",
    "# let us save the content to .txt file with prefix '_v0.1' for further debugging purpose and human evaluation process\n",
    "\n",
    "output_file_path = 'data/ISTQB_CTFL_Syllabus-v4.0_v01.txt'\n",
    "with open('data/ISTQB_CTFL_Syllabus-v4.0.txt', 'rb') as in_file, open(output_file_path, 'w', encoding='utf-8') as out_file:\n",
    "    # Writing the extracted text to the output file\n",
    "    out_file.write(extracted_text)\n",
    "\n",
    "# Closing the stream\n",
    "output_string.close()\n",
    "\n",
    "# Printing message to indicate that the text has been saved to the file\n",
    "print(f\"Extracted text for 'The Certified Tester Foundation Level in Software Testing' pre processed version 0.1 saved to '{output_file_path}'\")\n",
    "\n"
   ]
  },
  {
   "cell_type": "code",
   "execution_count": 225,
   "metadata": {},
   "outputs": [
    {
     "name": "stdout",
     "output_type": "stream",
     "text": [
      "Extracted text for 'The Certified Tester Foundation Level in Software Testing' pre processed version 0.2 saved to 'data/ISTQB_CTFL_Syllabus-v4.0_v02.txt'\n"
     ]
    }
   ],
   "source": [
    "# removing empty lines\n",
    "# _ - is iterator, if s.strip(): This part of the list comprehension checks whether the line s contains any non-whitespace characters. \n",
    "# If it does, the line is included in the resulting list.\n",
    "\n",
    "extracted_text = \"\".join([_ for _ in extracted_text.strip().splitlines(True) if _.strip()])\n",
    "\n",
    "output_file_path = 'data/ISTQB_CTFL_Syllabus-v4.0_v02.txt'\n",
    "with open('data/ISTQB_CTFL_Syllabus-v4.0_v01.txt', 'rb') as in_file, open(output_file_path, 'w', encoding='utf-8') as out_file:\n",
    "    # Writing the extracted text to the output file\n",
    "    out_file.write(extracted_text)\n",
    "\n",
    "# Closing the stream\n",
    "output_string.close()\n",
    "\n",
    "# Printing message to indicate that the text has been saved to the file\n",
    "print(f\"Extracted text for 'The Certified Tester Foundation Level in Software Testing' pre processed version 0.2 saved to '{output_file_path}'\")"
   ]
  },
  {
   "cell_type": "code",
   "execution_count": 226,
   "metadata": {},
   "outputs": [
    {
     "name": "stdout",
     "output_type": "stream",
     "text": [
      "Extracted text for 'The Certified Tester Foundation Level in Software Testing' pre processed version 0.1 saved to 'data/ISTQB_CTFL_Syllabus-v4.0_v03.txt'\n"
     ]
    }
   ],
   "source": [
    "# Removing text from 'Page 56 of 74' till the end of the text\n",
    "\n",
    "# Looking up for the text to remove everything after it\n",
    "target_text = \"Page 56 of 74\"\n",
    "\n",
    "# Finding the position of the target text in the extracted text\n",
    "end_position = extracted_text.find(target_text)\n",
    "\n",
    "# Checking if the target text was found, just in case\n",
    "if end_position != -1:\n",
    "    # Removing everything before the target text\n",
    "    extracted_text = extracted_text[:end_position]\n",
    "\n",
    "\n",
    "# let us save the content to .txt file with prefix '_v0.1' for further debugging purpose and human evaluation process\n",
    "\n",
    "output_file_path = 'data/ISTQB_CTFL_Syllabus-v4.0_v03.txt'\n",
    "with open('data/ISTQB_CTFL_Syllabus-v4.0_v02.txt', 'rb') as in_file, open(output_file_path, 'w', encoding='utf-8') as out_file:\n",
    "    # Writing the extracted text to the output file\n",
    "    out_file.write(extracted_text)\n",
    "\n",
    "# Closing the stream\n",
    "output_string.close()\n",
    "\n",
    "# Printing message to indicate that the text has been saved to the file\n",
    "print(f\"Extracted text for 'The Certified Tester Foundation Level in Software Testing' pre processed version 0.1 saved to '{output_file_path}'\")\n"
   ]
  },
  {
   "cell_type": "code",
   "execution_count": 227,
   "metadata": {},
   "outputs": [],
   "source": [
    "# convert to lower case all words in stringIO\n",
    "extracted_text = extracted_text.lower()"
   ]
  },
  {
   "cell_type": "code",
   "execution_count": 228,
   "metadata": {},
   "outputs": [
    {
     "name": "stdout",
     "output_type": "stream",
     "text": [
      "['i', 'me', 'my', 'myself', 'we', 'our', 'ours', 'ourselves', 'you', \"you're\", \"you've\", \"you'll\", \"you'd\", 'your', 'yours', 'yourself', 'yourselves', 'he', 'him', 'his', 'himself', 'she', \"she's\", 'her', 'hers', 'herself', 'it', \"it's\", 'its', 'itself', 'they', 'them', 'their', 'theirs', 'themselves', 'what', 'which', 'who', 'whom', 'this', 'that', \"that'll\", 'these', 'those', 'am', 'is', 'are', 'was', 'were', 'be', 'been', 'being', 'have', 'has', 'had', 'having', 'do', 'does', 'did', 'doing', 'a', 'an', 'the', 'and', 'but', 'if', 'or', 'because', 'as', 'until', 'while', 'of', 'at', 'by', 'for', 'with', 'about', 'against', 'between', 'into', 'through', 'during', 'before', 'after', 'above', 'below', 'to', 'from', 'up', 'down', 'in', 'out', 'on', 'off', 'over', 'under', 'again', 'further', 'then', 'once', 'here', 'there', 'when', 'where', 'why', 'how', 'all', 'any', 'both', 'each', 'few', 'more', 'most', 'other', 'some', 'such', 'no', 'nor', 'not', 'only', 'own', 'same', 'so', 'than', 'too', 'very', 's', 't', 'can', 'will', 'just', 'don', \"don't\", 'should', \"should've\", 'now', 'd', 'll', 'm', 'o', 're', 've', 'y', 'ain', 'aren', \"aren't\", 'couldn', \"couldn't\", 'didn', \"didn't\", 'doesn', \"doesn't\", 'hadn', \"hadn't\", 'hasn', \"hasn't\", 'haven', \"haven't\", 'isn', \"isn't\", 'ma', 'mightn', \"mightn't\", 'mustn', \"mustn't\", 'needn', \"needn't\", 'shan', \"shan't\", 'shouldn', \"shouldn't\", 'wasn', \"wasn't\", 'weren', \"weren't\", 'won', \"won't\", 'wouldn', \"wouldn't\"]\n"
     ]
    },
    {
     "name": "stderr",
     "output_type": "stream",
     "text": [
      "[nltk_data] Downloading package stopwords to\n",
      "[nltk_data]     C:\\Users\\Elena\\AppData\\Roaming\\nltk_data...\n",
      "[nltk_data]   Package stopwords is already up-to-date!\n"
     ]
    }
   ],
   "source": [
    "#  stop words dictionary\n",
    "stop_words = {\n",
    "    \"2.1.3.\": True,  # Section number\n",
    "    \"TDD\": True,  # Acronym for Test-Driven Development\n",
    "    \"ATDD\": True,  # Acronym for Acceptance Test-Driven Development\n",
    "    \"BDD\": True,  # Acronym for Behavior-Driven Development\n",
    "    \"are\": True,  # Common verb\n",
    "    \"as\": True,  # Common conjunction\n",
    "    \"each\": True,  # Common determiner\n",
    "    \"for\": True,  # Common preposition\n",
    "    \"in\": True,  # Common preposition\n",
    "    \"is\": True,  # Common verb\n",
    "    \"of\": True,  # Common preposition\n",
    "    \"on\": True,  # Common preposition\n",
    "    \"the\": True,  # Common determiner\n",
    "    \"to\": True,  # Common preposition\n",
    "    \"which\": True,  # Common pronoun\n",
    "    \"with\": True,  # Common preposition\n",
    "    \"and\": True,  # Common conjunction\n",
    "    \"an\": True,  # Common determiner\n",
    "    \"by\": True,  # Common preposition\n",
    "    \"in\": True,  # Common preposition\n",
    "    \"then\": True,  # Common adverb\n",
    "    \"of\": True,  # Common preposition\n",
    "    \"as\": True,  # Common conjunction\n",
    "    \"the\": True,  # Common determiner\n",
    "    \"which\": True,  # Common pronoun\n",
    "    \"to\": True,  # Common preposition\n",
    "    \"for\": True,  # Common preposition\n",
    "    \"all\": True,  # Common determiner\n",
    "    \"above\": True,  # Common preposition\n",
    "    \"an\": True,  # Common determiner\n",
    "    \"as\": True,  # Common conjunction\n",
    "    \"in\": True,  # Common preposition\n",
    "    \"is\": True,  # Common verb\n",
    "    \"of\": True,  # Common preposition\n",
    "    \"on\": True,  # Common preposition\n",
    "    \"the\": True,  # Common determiner\n",
    "    \"to\": True,  # Common preposition\n",
    "    \"which\": True,  # Common pronoun\n",
    "    \"with\": True,  # Common preposition\n",
    "    \"a\": True,  # Common determiner\n",
    "    \"by\": True,  # Common preposition\n",
    "    \"in\": True,  # Common preposition\n",
    "    \"then\": True,  # Common adverb\n",
    "    \"of\": True,  # Common preposition\n",
    "    \"as\": True,  # Common conjunction\n",
    "    \"the\": True,  # Common determiner\n",
    "    \"which\": True,  # Common pronoun\n",
    "    \"to\": True,  # Common preposition\n",
    "    \"for\": True,  # Common preposition\n",
    "    \"may\": True,  # Modal verb\n",
    "    \"in\": True,  # Common preposition\n",
    "    \"as\": True,  # Common conjunction\n",
    "    \"to\": True,  # Common preposition\n",
    "    \"in\": True,  # Common preposition\n",
    "    \"by\": True,  # Common preposition\n",
    "    \"to\": True,  # Common preposition\n",
    "    \"and\": True,  # Common conjunction\n",
    "    \"to\": True,  # Common preposition\n",
    "    \"a\": True,  # Common determiner\n",
    "    \"in\": True,  # Common preposition\n",
    "    \"the\": True,  # Common determiner\n",
    "    \"for\": True,  # Common preposition\n",
    "    \"to\": True,  # Common preposition\n",
    "    \"by\": True,  # Common preposition\n",
    "    \"for\": True,  # Common preposition\n",
    "    \"as\": True,  # Common conjunction\n",
    "    \"in\": True,  # Common preposition\n",
    "    \"the\": True,  # Common determiner\n",
    "    \"of\": True,  # Common preposition\n",
    "    \"on\": True,  # Common preposition\n",
    "    \"to\": True,  # Common preposition\n",
    "    \"for\": True,  # Common preposition\n",
    "    \"all\": True,  # Common determiner\n",
    "    \"above\": True,  # Common preposition\n",
    "}\n",
    "\n",
    "# Apply the stop words to your text\n",
    "# Iterate through your text and remove stop words\n",
    "filtered_text = []\n",
    "words = extracted_text.split()  # Split text into words\n",
    "for word in words:\n",
    "    # Check if the word is not a stop word (case-insensitive)\n",
    "    if word.lower() not in stop_words:\n",
    "        filtered_text.append(word)\n",
    "\n",
    "# Rejoin the filtered words to form the filtered\n"
   ]
  },
  {
   "cell_type": "code",
   "execution_count": null,
   "metadata": {},
   "outputs": [],
   "source": [
    "\n",
    "#removing . , : etc\n",
    "\n",
    "import re\n",
    "from io import StringIO\n",
    "\n",
    "# Assuming you have the extracted_text StringIO object with the text\n",
    "# ...\n",
    "\n",
    "# Create a StringIO object with the text\n",
    "string_io = StringIO(extracted_text)\n",
    "\n",
    "# Initialize a variable to store the cleaned text\n",
    "cleaned_text = \"\"\n",
    "\n",
    "# Flag to indicate whether we are in the header/footer section\n",
    "in_header_footer = False\n",
    "\n",
    "# Regular expression pattern to match the header pattern\n",
    "header_pattern = r\"v4\\.0\\nPage \\d+ of \\d+\\n\\d{4}-\\d{2}-\\d{2}\\n© International Software Testing Qualifications Board\\nCertified Tester\\nFoundation Level\"\n",
    "\n",
    "# Iterate through each line of the StringIO object\n",
    "for line in string_io:\n",
    "    # Check if the line matches the header pattern\n",
    "    if re.match(header_pattern, line) and not in_header_footer:\n",
    "        in_header_footer = True\n",
    "    # Check if the line is empty or contains only whitespace\n",
    "    elif not line.strip():\n",
    "        in_header_footer = False\n",
    "    # If not in the header/footer section, add the line to cleaned_text\n",
    "    if not in_header_footer:\n",
    "        cleaned_text += line\n",
    "\n",
    "# Update the extracted_text with the cleaned_text\n",
    "extracted_text = cleaned_text\n",
    "\n",
    "# Printing the cleaned text\n",
    "print(extracted_text)\n"
   ]
  }
 ],
 "metadata": {
  "kernelspec": {
   "display_name": "qgmc",
   "language": "python",
   "name": "python3"
  },
  "language_info": {
   "codemirror_mode": {
    "name": "ipython",
    "version": 3
   },
   "file_extension": ".py",
   "mimetype": "text/x-python",
   "name": "python",
   "nbconvert_exporter": "python",
   "pygments_lexer": "ipython3",
   "version": "3.11.5"
  },
  "orig_nbformat": 4
 },
 "nbformat": 4,
 "nbformat_minor": 2
}
